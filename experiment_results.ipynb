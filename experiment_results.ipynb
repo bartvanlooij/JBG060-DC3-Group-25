{
 "cells": [
  {
   "cell_type": "markdown",
   "metadata": {},
   "source": [
    "# Labelling experiment results"
   ]
  },
  {
   "cell_type": "markdown",
   "metadata": {},
   "source": [
    "## Data preperation"
   ]
  },
  {
   "cell_type": "code",
   "execution_count": 1,
   "metadata": {},
   "outputs": [
    {
     "name": "stdout",
     "output_type": "stream",
     "text": [
      "Number of reviewed articles by Ahmed:    28\n",
      "Number of reviewed articles by Ale:    28\n",
      "Number of reviewed articles by Artemis:    28\n",
      "Number of reviewed articles by Bart:    28\n",
      "Number of reviewed articles by David:    28\n",
      "Number of reviewed articles by Sophie:    28\n"
     ]
    },
    {
     "name": "stderr",
     "output_type": "stream",
     "text": [
      "C:\\Users\\barta\\AppData\\Local\\Temp\\ipykernel_14748\\534222018.py:15: FutureWarning: The frame.append method is deprecated and will be removed from pandas in a future version. Use pandas.concat instead.\n",
      "  df_total = df_total.append(df)\n",
      "C:\\Users\\barta\\AppData\\Local\\Temp\\ipykernel_14748\\534222018.py:15: FutureWarning: The frame.append method is deprecated and will be removed from pandas in a future version. Use pandas.concat instead.\n",
      "  df_total = df_total.append(df)\n",
      "C:\\Users\\barta\\AppData\\Local\\Temp\\ipykernel_14748\\534222018.py:15: FutureWarning: The frame.append method is deprecated and will be removed from pandas in a future version. Use pandas.concat instead.\n",
      "  df_total = df_total.append(df)\n",
      "C:\\Users\\barta\\AppData\\Local\\Temp\\ipykernel_14748\\534222018.py:15: FutureWarning: The frame.append method is deprecated and will be removed from pandas in a future version. Use pandas.concat instead.\n",
      "  df_total = df_total.append(df)\n",
      "C:\\Users\\barta\\AppData\\Local\\Temp\\ipykernel_14748\\534222018.py:15: FutureWarning: The frame.append method is deprecated and will be removed from pandas in a future version. Use pandas.concat instead.\n",
      "  df_total = df_total.append(df)\n",
      "C:\\Users\\barta\\AppData\\Local\\Temp\\ipykernel_14748\\534222018.py:15: FutureWarning: The frame.append method is deprecated and will be removed from pandas in a future version. Use pandas.concat instead.\n",
      "  df_total = df_total.append(df)\n"
     ]
    }
   ],
   "source": [
    "import os\n",
    "import pandas as pd\n",
    "import pandas as pd\n",
    "from scipy.stats import spearmanr\n",
    "import numpy as np\n",
    "\n",
    "data_folder = 'data/article_ratings/'\n",
    "pd.set_option('display.max_rows', 5)\n",
    "\n",
    "df_total = pd.DataFrame()\n",
    "for file in os.listdir(data_folder):\n",
    "    df = pd.read_csv(data_folder + file)\n",
    "    df[\"name\"] = file.split(\"_\")[0]\n",
    "    print(f\"Number of reviewed articles by {file.split('_')[0]}:    {df.shape[0]}\")\n",
    "    df_total = df_total.append(df)\n",
    "    \n",
    "\n",
    "\n",
    "df_art = pd.read_csv(\"data/articles_topics.csv\", index_col = 0)\n",
    "\n",
    "\n",
    "\n",
    "df_total.rename(columns={\"sentiment\": \"manual_sentiment\"}, inplace=True)\n",
    "\n",
    "\n",
    "df_art = df_art.merge(df_total[[\"paragraphs\", \"manual_sentiment\", \"outcome\"]], on=\"paragraphs\", how=\"left\")\n",
    "\n",
    "df_art[\"manual_sentiment\"] = df_art.manual_sentiment.map({1: \"POSITIVE\", -1: \"NEGATIVE\", 0: \"NEUTRAL\", np.nan: np.nan})"
   ]
  },
  {
   "cell_type": "markdown",
   "metadata": {},
   "source": [
    "# Results\n",
    "\n",
    "### Manual sentiment vs. manual outcome\n",
    "\n",
    "The p-value shows if there is a association between the two variables. a value lower than 0.05 shows that we reject the $H_0$ hypothesis"
   ]
  },
  {
   "cell_type": "code",
   "execution_count": 16,
   "metadata": {},
   "outputs": [
    {
     "name": "stdout",
     "output_type": "stream",
     "text": [
      "Observed Spearman's rank correlation: 0.7128900699037357\n",
      "Permutation p-value: 0.0\n"
     ]
    }
   ],
   "source": [
    "\n",
    "df = df_art[df_art[\"manual_sentiment\"].notna()]\n",
    "\n",
    "# Calculate the observed statistic (Spearman's rank correlation)\n",
    "observed_statistic, _ = spearmanr(df['manual_sentiment'], df['outcome'])\n",
    "\n",
    "# Specify the number of permutations (e.g., 1000)\n",
    "num_permutations = 1000\n",
    "\n",
    "# Create an array to store the permuted statistics\n",
    "permuted_statistics = np.empty(num_permutations)\n",
    "\n",
    "# Permutation test\n",
    "for i in range(num_permutations):\n",
    "    shuffled_outcome = np.random.permutation(df['outcome'])\n",
    "    permuted_statistic, _ = spearmanr(df['manual_sentiment'], shuffled_outcome)\n",
    "    permuted_statistics[i] = permuted_statistic\n",
    "\n",
    "# Calculate the p-value by comparing the observed statistic to the permuted statistics\n",
    "p_value = (np.abs(permuted_statistics) >= np.abs(observed_statistic)).mean()\n",
    "\n",
    "print(\"Observed Spearman's rank correlation:\", observed_statistic)\n",
    "print(\"Permutation p-value:\", p_value)\n"
   ]
  },
  {
   "cell_type": "markdown",
   "metadata": {},
   "source": [
    "### Manual sentiment vs. sentiment from RoBERTa model"
   ]
  },
  {
   "cell_type": "code",
   "execution_count": 17,
   "metadata": {},
   "outputs": [
    {
     "name": "stdout",
     "output_type": "stream",
     "text": [
      "Observed Spearman's rank correlation: 0.4033412964650235\n",
      "Permutation p-value: 0.0\n"
     ]
    }
   ],
   "source": [
    "\n",
    "df = df_art[df_art[\"manual_sentiment\"].notna()]\n",
    "\n",
    "observed_statistic, _ = spearmanr(df['manual_sentiment'], df['sentiment_roberta'])\n",
    "\n",
    "# Specify the number of permutations (e.g., 1000)\n",
    "num_permutations = 1000\n",
    "\n",
    "# Create an array to store the permuted statistics\n",
    "permuted_statistics = np.empty(num_permutations)\n",
    "\n",
    "# Permutation test\n",
    "for i in range(num_permutations):\n",
    "    shuffled_outcome = np.random.permutation(df['sentiment_roberta'])\n",
    "    permuted_statistic, _ = spearmanr(df['manual_sentiment'], shuffled_outcome)\n",
    "    permuted_statistics[i] = permuted_statistic\n",
    "\n",
    "# Calculate the p-value by comparing the observed statistic to the permuted statistics\n",
    "p_value = (np.abs(permuted_statistics) >= np.abs(observed_statistic)).mean()\n",
    "\n",
    "print(\"Observed Spearman's rank correlation:\", observed_statistic)\n",
    "print(\"Permutation p-value:\", p_value)"
   ]
  },
  {
   "cell_type": "markdown",
   "metadata": {},
   "source": [
    "### Sentiment RoBERTa model vs. Manual outcome"
   ]
  },
  {
   "cell_type": "code",
   "execution_count": 18,
   "metadata": {},
   "outputs": [
    {
     "name": "stdout",
     "output_type": "stream",
     "text": [
      "Observed Spearman's rank correlation: 0.4144275961878863\n",
      "Permutation p-value: 0.0\n"
     ]
    }
   ],
   "source": [
    "\n",
    "df = df_art[df_art[\"outcome\"].notna()]\n",
    "\n",
    "# Create a contingency table\n",
    "observed_statistic, _ = spearmanr(df['sentiment_roberta'], df['outcome'])\n",
    "\n",
    "# Specify the number of permutations (e.g., 1000)\n",
    "num_permutations = 1000\n",
    "\n",
    "# Create an array to store the permuted statistics\n",
    "permuted_statistics = np.empty(num_permutations)\n",
    "\n",
    "# Permutation test\n",
    "for i in range(num_permutations):\n",
    "    shuffled_outcome = np.random.permutation(df['outcome'])\n",
    "    permuted_statistic, _ = spearmanr(df['sentiment_roberta'], shuffled_outcome)\n",
    "    permuted_statistics[i] = permuted_statistic\n",
    "\n",
    "# Calculate the p-value by comparing the observed statistic to the permuted statistics\n",
    "p_value = (np.abs(permuted_statistics) >= np.abs(observed_statistic)).mean()\n",
    "\n",
    "print(\"Observed Spearman's rank correlation:\", observed_statistic)\n",
    "print(\"Permutation p-value:\", p_value)"
   ]
  }
 ],
 "metadata": {
  "kernelspec": {
   "display_name": "Python 3 (ipykernel)",
   "language": "python",
   "name": "python3"
  },
  "language_info": {
   "codemirror_mode": {
    "name": "ipython",
    "version": 3
   },
   "file_extension": ".py",
   "mimetype": "text/x-python",
   "name": "python",
   "nbconvert_exporter": "python",
   "pygments_lexer": "ipython3",
   "version": "3.9.0"
  }
 },
 "nbformat": 4,
 "nbformat_minor": 2
}
