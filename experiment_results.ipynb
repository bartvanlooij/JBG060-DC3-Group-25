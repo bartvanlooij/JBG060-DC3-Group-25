{
 "cells": [
  {
   "cell_type": "markdown",
   "metadata": {},
   "source": [
    "# Labelling experiment results"
   ]
  },
  {
   "cell_type": "markdown",
   "metadata": {},
   "source": [
    "## Data preperation"
   ]
  },
  {
   "cell_type": "code",
   "execution_count": 104,
   "metadata": {},
   "outputs": [
    {
     "name": "stdout",
     "output_type": "stream",
     "text": [
      "Number of reviewed articles in Bart_articles.csv:    28\n",
      "Number of reviewed articles in David_articlesranking.csv:    28\n"
     ]
    },
    {
     "name": "stderr",
     "output_type": "stream",
     "text": [
      "C:\\Users\\barta\\AppData\\Local\\Temp\\ipykernel_13136\\2000974360.py:14: FutureWarning: The frame.append method is deprecated and will be removed from pandas in a future version. Use pandas.concat instead.\n",
      "  df_total = df_total.append(df)\n",
      "C:\\Users\\barta\\AppData\\Local\\Temp\\ipykernel_13136\\2000974360.py:14: FutureWarning: The frame.append method is deprecated and will be removed from pandas in a future version. Use pandas.concat instead.\n",
      "  df_total = df_total.append(df)\n"
     ]
    }
   ],
   "source": [
    "import os\n",
    "import pandas as pd\n",
    "import pandas as pd\n",
    "from scipy.stats import chi2_contingency\n",
    "import numpy as np\n",
    "data_folder = 'data/article_ratings/'\n",
    "pd.set_option('display.max_rows', 5)\n",
    "\n",
    "df_total = pd.DataFrame()\n",
    "for file in os.listdir(data_folder)[1:3]:\n",
    "    df = pd.read_csv(data_folder + file)\n",
    "    df[\"name\"] = file.split(\"_\")[0]\n",
    "    print(f\"Number of reviewed articles in {file}:    {df.shape[0]}\")\n",
    "    df_total = df_total.append(df)\n",
    "    \n",
    "\n",
    "\n",
    "df_art = pd.read_csv(\"data/articles_topics.csv\", index_col = 0)\n",
    "\n",
    "# df_art[\"manual_sentiment\"] = np.nan\n",
    "\n",
    "df_total.rename(columns={\"sentiment\": \"manual_sentiment\"}, inplace=True)\n",
    "\n",
    "\n",
    "df_art = df_art.merge(df_total[[\"paragraphs\", \"manual_sentiment\", \"outcome\"]], on=\"paragraphs\", how=\"left\")\n",
    "\n",
    "df_art[\"manual_sentiment\"] = df_art.manual_sentiment.map({1: \"POSITIVE\", -1: \"NEGATIVE\", 0: \"NEUTRAL\", np.nan: np.nan})"
   ]
  },
  {
   "cell_type": "code",
   "execution_count": 107,
   "metadata": {},
   "outputs": [
    {
     "data": {
      "text/plain": [
       "Index(['summary', 'date', 'name', 'lat', 'lng', 'id', 'paragraphs',\n",
       "       'publisher', 'tags', 'sentiment_summary', 'sentiment_paragraph',\n",
       "       'sentiment_roberta_sum', 'sentiment_roberta', 'location_article',\n",
       "       'hunger', 'refugees', 'humanitarian', 'conflict', 'economy',\n",
       "       'agriculture', 'demographics', 'manual_sentiment', 'outcome'],\n",
       "      dtype='object')"
      ]
     },
     "execution_count": 107,
     "metadata": {},
     "output_type": "execute_result"
    }
   ],
   "source": [
    "df_art.columns"
   ]
  },
  {
   "cell_type": "markdown",
   "metadata": {},
   "source": [
    "# Results\n",
    "\n",
    "### Manual sentiment vs. manual outcome\n",
    "\n",
    "The p-value shows if there is a association between the two variables. a value lower than 0.05 shows that we reject the $H_0$ hypothesis"
   ]
  },
  {
   "cell_type": "code",
   "execution_count": 109,
   "metadata": {},
   "outputs": [
    {
     "name": "stdout",
     "output_type": "stream",
     "text": [
      "Chi-squared statistic: 43.797233468286095\n",
      "P-value: 7.069046512248374e-09\n",
      "Reject null hypothesis\n"
     ]
    }
   ],
   "source": [
    "\n",
    "df = df_art[df_art[\"manual_sentiment\"].notna()]\n",
    "\n",
    "# Create a contingency table\n",
    "contingency_table = pd.crosstab(df['manual_sentiment'], df['outcome'])\n",
    "\n",
    "# Perform the Chi-squared test\n",
    "chi2, p, dof, expected = chi2_contingency(contingency_table)\n",
    "\n",
    "print(\"Chi-squared statistic:\", chi2)\n",
    "print(\"P-value:\", p)\n",
    "if p < 0.05:\n",
    "    print(\"Reject null hypothesis\")\n",
    "else:\n",
    "    print(\"Fail to reject null hypothesis\")\n"
   ]
  },
  {
   "cell_type": "markdown",
   "metadata": {},
   "source": [
    "### Manual sentiment vs. sentiment from RoBERTa model"
   ]
  },
  {
   "cell_type": "code",
   "execution_count": 111,
   "metadata": {},
   "outputs": [
    {
     "name": "stdout",
     "output_type": "stream",
     "text": [
      "Chi-squared statistic: 8.432748538011696\n",
      "P-value: 0.014752034566367075\n",
      "Reject null hypothesis\n"
     ]
    }
   ],
   "source": [
    "\n",
    "df = df_art[df_art[\"manual_sentiment\"].notna()]\n",
    "\n",
    "# Create a contingency table\n",
    "contingency_table = pd.crosstab(df['manual_sentiment'], df['sentiment_roberta'])\n",
    "\n",
    "# Perform the Chi-squared test\n",
    "chi2, p, dof, expected = chi2_contingency(contingency_table)\n",
    "\n",
    "print(\"Chi-squared statistic:\", chi2)\n",
    "print(\"P-value:\", p)\n",
    "if p < 0.05:\n",
    "    print(\"Reject null hypothesis\")\n",
    "else:\n",
    "    print(\"Fail to reject null hypothesis\")"
   ]
  },
  {
   "cell_type": "markdown",
   "metadata": {},
   "source": [
    "### Sentiment RoBERTa model vs. Manual outcome"
   ]
  },
  {
   "cell_type": "code",
   "execution_count": 113,
   "metadata": {},
   "outputs": [
    {
     "name": "stdout",
     "output_type": "stream",
     "text": [
      "Chi-squared statistic: 11.642414628564213\n",
      "P-value: 0.0029640244746380355\n",
      "Reject null hypothesis\n"
     ]
    }
   ],
   "source": [
    "\n",
    "df = df_art[df_art[\"outcome\"].notna()]\n",
    "\n",
    "# Create a contingency table\n",
    "contingency_table = pd.crosstab(df['sentiment_roberta'], df['outcome'])\n",
    "\n",
    "# Perform the Chi-squared test\n",
    "chi2, p, dof, expected = chi2_contingency(contingency_table)\n",
    "\n",
    "print(\"Chi-squared statistic:\", chi2)\n",
    "print(\"P-value:\", p)\n",
    "if p < 0.05:\n",
    "    print(\"Reject null hypothesis\")\n",
    "else:\n",
    "    print(\"Fail to reject null hypothesis\")"
   ]
  }
 ],
 "metadata": {
  "kernelspec": {
   "display_name": "dc3env",
   "language": "python",
   "name": "python3"
  },
  "language_info": {
   "codemirror_mode": {
    "name": "ipython",
    "version": 3
   },
   "file_extension": ".py",
   "mimetype": "text/x-python",
   "name": "python",
   "nbconvert_exporter": "python",
   "pygments_lexer": "ipython3",
   "version": "3.9.0"
  }
 },
 "nbformat": 4,
 "nbformat_minor": 2
}
