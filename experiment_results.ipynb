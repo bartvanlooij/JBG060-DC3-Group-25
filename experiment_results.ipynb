{
 "cells": [
  {
   "cell_type": "markdown",
   "metadata": {},
   "source": [
    "# Labelling experiment results"
   ]
  },
  {
   "cell_type": "markdown",
   "metadata": {},
   "source": [
    "## Data preperation"
   ]
  },
  {
   "cell_type": "code",
   "execution_count": 2,
   "metadata": {},
   "outputs": [
    {
     "name": "stdout",
     "output_type": "stream",
     "text": [
      "Number of reviewed articles by Ahmed:    28\n",
      "Number of reviewed articles by Ale:    28\n",
      "Number of reviewed articles by Artemis:    28\n",
      "Number of reviewed articles by Bart:    28\n",
      "Number of reviewed articles by David:    28\n",
      "Number of reviewed articles by Sophie:    28\n"
     ]
    },
    {
     "name": "stderr",
     "output_type": "stream",
     "text": [
      "C:\\Users\\barta\\AppData\\Local\\Temp\\ipykernel_9644\\2457337643.py:18: FutureWarning: The frame.append method is deprecated and will be removed from pandas in a future version. Use pandas.concat instead.\n",
      "  df_total = df_total.append(df)\n",
      "C:\\Users\\barta\\AppData\\Local\\Temp\\ipykernel_9644\\2457337643.py:18: FutureWarning: The frame.append method is deprecated and will be removed from pandas in a future version. Use pandas.concat instead.\n",
      "  df_total = df_total.append(df)\n",
      "C:\\Users\\barta\\AppData\\Local\\Temp\\ipykernel_9644\\2457337643.py:18: FutureWarning: The frame.append method is deprecated and will be removed from pandas in a future version. Use pandas.concat instead.\n",
      "  df_total = df_total.append(df)\n",
      "C:\\Users\\barta\\AppData\\Local\\Temp\\ipykernel_9644\\2457337643.py:18: FutureWarning: The frame.append method is deprecated and will be removed from pandas in a future version. Use pandas.concat instead.\n",
      "  df_total = df_total.append(df)\n",
      "C:\\Users\\barta\\AppData\\Local\\Temp\\ipykernel_9644\\2457337643.py:18: FutureWarning: The frame.append method is deprecated and will be removed from pandas in a future version. Use pandas.concat instead.\n",
      "  df_total = df_total.append(df)\n",
      "C:\\Users\\barta\\AppData\\Local\\Temp\\ipykernel_9644\\2457337643.py:18: FutureWarning: The frame.append method is deprecated and will be removed from pandas in a future version. Use pandas.concat instead.\n",
      "  df_total = df_total.append(df)\n"
     ]
    }
   ],
   "source": [
    "import os\n",
    "import pandas as pd\n",
    "import pandas as pd\n",
    "from scipy.stats import chi2_contingency, spearmanr\n",
    "import numpy as np\n",
    "\n",
    "\n",
    "\n",
    "\n",
    "data_folder = 'data/article_ratings/'\n",
    "pd.set_option('display.max_rows', 5)\n",
    "\n",
    "df_total = pd.DataFrame()\n",
    "for file in os.listdir(data_folder):\n",
    "    df = pd.read_csv(data_folder + file)\n",
    "    df[\"name\"] = file.split(\"_\")[0]\n",
    "    print(f\"Number of reviewed articles by {file.split('_')[0]}:    {df.shape[0]}\")\n",
    "    df_total = df_total.append(df)\n",
    "    \n",
    "\n",
    "\n",
    "df_art = pd.read_csv(\"data/articles_topics.csv\", index_col = 0)\n",
    "\n",
    "\n",
    "\n",
    "df_total.rename(columns={\"sentiment\": \"manual_sentiment\"}, inplace=True)\n",
    "\n",
    "\n",
    "df_art = df_art.merge(df_total[[\"paragraphs\", \"manual_sentiment\", \"outcome\"]], on=\"paragraphs\", how=\"left\")\n",
    "\n",
    "df_art[\"manual_sentiment\"] = df_art.manual_sentiment.map({1: \"POSITIVE\", -1: \"NEGATIVE\", 0: \"NEUTRAL\", np.nan: np.nan})"
   ]
  },
  {
   "cell_type": "markdown",
   "metadata": {},
   "source": [
    "# Results\n",
    "\n",
    "### Manual sentiment vs. manual outcome\n",
    "\n",
    "The p-value shows if there is a association between the two variables. a value lower than 0.05 shows that we reject the $H_0$ hypothesis"
   ]
  },
  {
   "cell_type": "code",
   "execution_count": 16,
   "metadata": {},
   "outputs": [
    {
     "name": "stdout",
     "output_type": "stream",
     "text": [
      "Observed Spearman's rank correlation: 0.7128900699037357\n",
      "Permutation p-value: 0.0\n"
     ]
    }
   ],
   "source": [
    "\n",
    "df = df_art[df_art[\"manual_sentiment\"].notna()]\n",
    "\n",
    "# # Create a contingency table\n",
    "# contingency_table = pd.crosstab(df['manual_sentiment'], df['outcome'])\n",
    "\n",
    "# # Perform the Chi-squared test\n",
    "# correlation, p_value = spearmanr(df['manual_sentiment'], df['outcome'])\n",
    "\n",
    "# print(\"Correlation\", correlation)\n",
    "# print(\"P-value:\", p_value)\n",
    "# if p_value < 0.05:\n",
    "#     print(\"Reject null hypothesis\")\n",
    "# else:\n",
    "#     print(\"Fail to reject null hypothesis\")\n",
    "    \n",
    "    \n",
    "import numpy as np\n",
    "\n",
    "# Creat\n",
    "\n",
    "# Calculate the observed statistic (Spearman's rank correlation)\n",
    "observed_statistic, _ = spearmanr(df['manual_sentiment'], df['outcome'])\n",
    "\n",
    "# Specify the number of permutations (e.g., 1000)\n",
    "num_permutations = 1000\n",
    "\n",
    "# Create an array to store the permuted statistics\n",
    "permuted_statistics = np.empty(num_permutations)\n",
    "\n",
    "# Permutation test\n",
    "for i in range(num_permutations):\n",
    "    shuffled_outcome = np.random.permutation(df['outcome'])\n",
    "    permuted_statistic, _ = spearmanr(df['manual_sentiment'], shuffled_outcome)\n",
    "    permuted_statistics[i] = permuted_statistic\n",
    "\n",
    "# Calculate the p-value by comparing the observed statistic to the permuted statistics\n",
    "p_value = (np.abs(permuted_statistics) >= np.abs(observed_statistic)).mean()\n",
    "\n",
    "print(\"Observed Spearman's rank correlation:\", observed_statistic)\n",
    "print(\"Permutation p-value:\", p_value)\n"
   ]
  },
  {
   "cell_type": "markdown",
   "metadata": {},
   "source": [
    "### Manual sentiment vs. sentiment from RoBERTa model"
   ]
  },
  {
   "cell_type": "code",
   "execution_count": 17,
   "metadata": {},
   "outputs": [
    {
     "name": "stdout",
     "output_type": "stream",
     "text": [
      "Observed Spearman's rank correlation: 0.4033412964650235\n",
      "Permutation p-value: 0.0\n"
     ]
    }
   ],
   "source": [
    "\n",
    "df = df_art[df_art[\"manual_sentiment\"].notna()]\n",
    "\n",
    "observed_statistic, _ = spearmanr(df['manual_sentiment'], df['sentiment_roberta'])\n",
    "\n",
    "# Specify the number of permutations (e.g., 1000)\n",
    "num_permutations = 1000\n",
    "\n",
    "# Create an array to store the permuted statistics\n",
    "permuted_statistics = np.empty(num_permutations)\n",
    "\n",
    "# Permutation test\n",
    "for i in range(num_permutations):\n",
    "    shuffled_outcome = np.random.permutation(df['sentiment_roberta'])\n",
    "    permuted_statistic, _ = spearmanr(df['manual_sentiment'], shuffled_outcome)\n",
    "    permuted_statistics[i] = permuted_statistic\n",
    "\n",
    "# Calculate the p-value by comparing the observed statistic to the permuted statistics\n",
    "p_value = (np.abs(permuted_statistics) >= np.abs(observed_statistic)).mean()\n",
    "\n",
    "print(\"Observed Spearman's rank correlation:\", observed_statistic)\n",
    "print(\"Permutation p-value:\", p_value)"
   ]
  },
  {
   "cell_type": "markdown",
   "metadata": {},
   "source": [
    "### Sentiment RoBERTa model vs. Manual outcome"
   ]
  },
  {
   "cell_type": "code",
   "execution_count": 18,
   "metadata": {},
   "outputs": [
    {
     "name": "stdout",
     "output_type": "stream",
     "text": [
      "Observed Spearman's rank correlation: 0.4144275961878863\n",
      "Permutation p-value: 0.0\n"
     ]
    }
   ],
   "source": [
    "\n",
    "df = df_art[df_art[\"outcome\"].notna()]\n",
    "\n",
    "# Create a contingency table\n",
    "observed_statistic, _ = spearmanr(df['sentiment_roberta'], df['outcome'])\n",
    "\n",
    "# Specify the number of permutations (e.g., 1000)\n",
    "num_permutations = 1000\n",
    "\n",
    "# Create an array to store the permuted statistics\n",
    "permuted_statistics = np.empty(num_permutations)\n",
    "\n",
    "# Permutation test\n",
    "for i in range(num_permutations):\n",
    "    shuffled_outcome = np.random.permutation(df['outcome'])\n",
    "    permuted_statistic, _ = spearmanr(df['sentiment_roberta'], shuffled_outcome)\n",
    "    permuted_statistics[i] = permuted_statistic\n",
    "\n",
    "# Calculate the p-value by comparing the observed statistic to the permuted statistics\n",
    "p_value = (np.abs(permuted_statistics) >= np.abs(observed_statistic)).mean()\n",
    "\n",
    "print(\"Observed Spearman's rank correlation:\", observed_statistic)\n",
    "print(\"Permutation p-value:\", p_value)"
   ]
  },
  {
   "cell_type": "markdown",
   "metadata": {},
   "source": [
    "# Confusion matrix and analysis"
   ]
  },
  {
   "cell_type": "code",
   "execution_count": 60,
   "metadata": {},
   "outputs": [],
   "source": [
    "import matplotlib.pyplot as plt\n",
    "import seaborn as sns\n",
    "def plot_ConfusionMatrix(prediction, true, label_Pred = 'Predicted', label_true = 'Actual', binary=False):\n",
    "    '''\n",
    "    Function to plot a confusion matrix as a heatmap from a prediction and true values.\n",
    "    \n",
    "    Inputs:\n",
    "        prediction - The predicted values\n",
    "        true - the true values\n",
    "        binary - whether the variable is binary or not\n",
    "        \n",
    "    Output:\n",
    "        confusion_matrix - The calculated confusion matrix based on the prediction and true values.\n",
    "        \n",
    "        Also plots the confusion matrix as heatmap in an interactive environment such as Jupyter Notebook.\n",
    "    '''\n",
    "    \n",
    "    y_pred = prediction\n",
    "    # Initialize confusion matrix\n",
    "    confusion_matrix = pd.crosstab(\n",
    "        true, y_pred, rownames=[label_true], colnames=[label_Pred]\n",
    "    )\n",
    "\n",
    "    # Plot confusion matrix as heatmap\n",
    "    sns.heatmap(confusion_matrix, annot=True, fmt=\"g\")\n",
    "    plt.show()\n",
    "    plt.clf()\n",
    "    \n",
    "    return confusion_matrix"
   ]
  },
  {
   "cell_type": "code",
   "execution_count": 61,
   "metadata": {
    "scrolled": true
   },
   "outputs": [
    {
     "data": {
      "text/plain": [
       "Index(['summary', 'date', 'name', 'lat', 'lng', 'id', 'paragraphs',\n",
       "       'publisher', 'tags', 'sentiment_summary', 'sentiment_paragraph',\n",
       "       'sentiment_roberta_sum', 'sentiment_roberta', 'location_article',\n",
       "       'hunger', 'refugees', 'humanitarian', 'conflict', 'economy',\n",
       "       'agriculture', 'demographics', 'manual_sentiment', 'outcome'],\n",
       "      dtype='object')"
      ]
     },
     "execution_count": 61,
     "metadata": {},
     "output_type": "execute_result"
    }
   ],
   "source": [
    "df.columns"
   ]
  },
  {
   "cell_type": "code",
   "execution_count": 62,
   "metadata": {
    "scrolled": true
   },
   "outputs": [],
   "source": [
    "comparable = ['sentiment_roberta', 'manual_sentiment', 'outcome']\n",
    "df_comp = df[comparable].copy()\n",
    "\n",
    "NEGATIVE = -1\n",
    "NEUTRAL = 0\n",
    "POSITIVE = 1\n",
    "\n",
    "toSameFormat = {\n",
    "    'negative': NEGATIVE,\n",
    "    'NEGATIVE': NEGATIVE,\n",
    "    -1: NEGATIVE,\n",
    "    'neutral': NEUTRAL,\n",
    "    'NEUTRAL': NEUTRAL,\n",
    "    0: NEUTRAL,\n",
    "    'positive': POSITIVE,\n",
    "    'POSITIVE': POSITIVE,\n",
    "    1: POSITIVE\n",
    "}\n",
    "\n",
    "for c in comparable:\n",
    "    df_comp[c] = df_comp[c].map(toSameFormat)\n"
   ]
  },
  {
   "cell_type": "code",
   "execution_count": 85,
   "metadata": {},
   "outputs": [],
   "source": [
    "def plot_comp_CM(col_index1, col_index2):\n",
    "    return plot_ConfusionMatrix(df_comp[comparable[col_index1]], df_comp[comparable[col_index2]], comparable[col_index1], comparable[col_index2])"
   ]
  },
  {
   "cell_type": "code",
   "execution_count": 67,
   "metadata": {},
   "outputs": [
    {
     "data": {
      "image/png": "[encoded data removed]",
      "text/plain": [
       "<Figure size 640x480 with 2 Axes>"
      ]
     },
     "metadata": {},
     "output_type": "display_data"
    },
    {
     "data": {
      "text/plain": [
       "<Figure size 640x480 with 0 Axes>"
      ]
     },
     "metadata": {},
     "output_type": "display_data"
    }
   ],
   "source": [
    "plot_comp_CM(0,1)"
   ]
  },
  {
   "cell_type": "code",
   "execution_count": 68,
   "metadata": {
    "scrolled": true
   },
   "outputs": [
    {
     "data": {
      "image/png": "[encoded data removed]",
      "text/plain": [
       "<Figure size 640x480 with 2 Axes>"
      ]
     },
     "metadata": {},
     "output_type": "display_data"
    },
    {
     "data": {
      "text/plain": [
       "<Figure size 640x480 with 0 Axes>"
      ]
     },
     "metadata": {},
     "output_type": "display_data"
    }
   ],
   "source": [
    "plot_comp_CM(0,2)"
   ]
  },
  {
   "cell_type": "code",
   "execution_count": 89,
   "metadata": {},
   "outputs": [
    {
     "data": {
      "image/png": "[encoded data removed]",
      "text/plain": [
       "<Figure size 640x480 with 2 Axes>"
      ]
     },
     "metadata": {},
     "output_type": "display_data"
    },
    {
     "data": {
      "text/plain": [
       "0.6808510638297872"
      ]
     },
     "execution_count": 89,
     "metadata": {},
     "output_type": "execute_result"
    },
    {
     "data": {
      "text/plain": [
       "<Figure size 640x480 with 0 Axes>"
      ]
     },
     "metadata": {},
     "output_type": "display_data"
    }
   ],
   "source": [
    "outcomeVsManualSentiment = plot_comp_CM(1,2).to_numpy()\n",
    "outcomeVsManualSentiment.trace()/outcomeVsManualSentiment.sum()"
   ]
  },
  {
   "cell_type": "code",
   "execution_count": 81,
   "metadata": {},
   "outputs": [
    {
     "name": "stdout",
     "output_type": "stream",
     "text": [
      "Percent of scores for each value for each variable: \n"
     ]
    },
    {
     "data": {
      "text/html": [
       "<div>\n",
       "<style scoped>\n",
       "    .dataframe tbody tr th:only-of-type {\n",
       "        vertical-align: middle;\n",
       "    }\n",
       "\n",
       "    .dataframe tbody tr th {\n",
       "        vertical-align: top;\n",
       "    }\n",
       "\n",
       "    .dataframe thead th {\n",
       "        text-align: right;\n",
       "    }\n",
       "</style>\n",
       "<table border=\"1\" class=\"dataframe\">\n",
       "  <thead>\n",
       "    <tr style=\"text-align: right;\">\n",
       "      <th></th>\n",
       "      <th>sentiment_roberta</th>\n",
       "      <th>manual_sentiment</th>\n",
       "      <th>outcome</th>\n",
       "    </tr>\n",
       "  </thead>\n",
       "  <tbody>\n",
       "    <tr>\n",
       "      <th>-1</th>\n",
       "      <td>0.326241</td>\n",
       "      <td>0.475177</td>\n",
       "      <td>0.453901</td>\n",
       "    </tr>\n",
       "    <tr>\n",
       "      <th>0</th>\n",
       "      <td>0.631206</td>\n",
       "      <td>0.276596</td>\n",
       "      <td>0.255319</td>\n",
       "    </tr>\n",
       "    <tr>\n",
       "      <th>1</th>\n",
       "      <td>0.042553</td>\n",
       "      <td>0.248227</td>\n",
       "      <td>0.290780</td>\n",
       "    </tr>\n",
       "  </tbody>\n",
       "</table>\n",
       "</div>"
      ],
      "text/plain": [
       "    sentiment_roberta  manual_sentiment   outcome\n",
       "-1           0.326241          0.475177  0.453901\n",
       " 0           0.631206          0.276596  0.255319\n",
       " 1           0.042553          0.248227  0.290780"
      ]
     },
     "execution_count": 81,
     "metadata": {},
     "output_type": "execute_result"
    }
   ],
   "source": [
    "\n",
    "\n",
    "def dist(c):\n",
    "    return df_comp[comparable[c]].value_counts()/len(df_comp[comparable[c]])\n",
    "\n",
    "df_agg = pd.DataFrame(data = {comparable[i]: dist(i) for i in range(3)})\n",
    "print(\"Percent of scores for each value for each variable: \")\n",
    "df_agg"
   ]
  },
  {
   "cell_type": "markdown",
   "metadata": {},
   "source": [
    "# Correlation Matrix"
   ]
  },
  {
   "cell_type": "code",
   "execution_count": 91,
   "metadata": {},
   "outputs": [
    {
     "data": {
      "text/html": [
       "<div>\n",
       "<style scoped>\n",
       "    .dataframe tbody tr th:only-of-type {\n",
       "        vertical-align: middle;\n",
       "    }\n",
       "\n",
       "    .dataframe tbody tr th {\n",
       "        vertical-align: top;\n",
       "    }\n",
       "\n",
       "    .dataframe thead th {\n",
       "        text-align: right;\n",
       "    }\n",
       "</style>\n",
       "<table border=\"1\" class=\"dataframe\">\n",
       "  <thead>\n",
       "    <tr style=\"text-align: right;\">\n",
       "      <th></th>\n",
       "      <th>sentiment_roberta</th>\n",
       "      <th>manual_sentiment</th>\n",
       "      <th>outcome</th>\n",
       "    </tr>\n",
       "  </thead>\n",
       "  <tbody>\n",
       "    <tr>\n",
       "      <th>sentiment_roberta</th>\n",
       "      <td>1.000000</td>\n",
       "      <td>0.385472</td>\n",
       "      <td>0.365908</td>\n",
       "    </tr>\n",
       "    <tr>\n",
       "      <th>manual_sentiment</th>\n",
       "      <td>0.385472</td>\n",
       "      <td>1.000000</td>\n",
       "      <td>0.712487</td>\n",
       "    </tr>\n",
       "    <tr>\n",
       "      <th>outcome</th>\n",
       "      <td>0.365908</td>\n",
       "      <td>0.712487</td>\n",
       "      <td>1.000000</td>\n",
       "    </tr>\n",
       "  </tbody>\n",
       "</table>\n",
       "</div>"
      ],
      "text/plain": [
       "                   sentiment_roberta  manual_sentiment   outcome\n",
       "sentiment_roberta           1.000000          0.385472  0.365908\n",
       "manual_sentiment            0.385472          1.000000  0.712487\n",
       "outcome                     0.365908          0.712487  1.000000"
      ]
     },
     "execution_count": 91,
     "metadata": {},
     "output_type": "execute_result"
    }
   ],
   "source": [
    "df_comp.corr()"
   ]
  },
  {
   "cell_type": "code",
   "execution_count": null,
   "metadata": {},
   "outputs": [],
   "source": []
  }
 ],
 "metadata": {
  "kernelspec": {
   "display_name": "Python 3 (ipykernel)",
   "language": "python",
   "name": "python3"
  },
  "language_info": {
   "codemirror_mode": {
    "name": "ipython",
    "version": 3
   },
   "file_extension": ".py",
   "mimetype": "text/x-python",
   "name": "python",
   "nbconvert_exporter": "python",
   "pygments_lexer": "ipython3",
   "version": "3.9.0"
  }
 },
 "nbformat": 4,
 "nbformat_minor": 2
}
