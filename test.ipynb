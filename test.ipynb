{
 "cells": [
  {
   "cell_type": "code",
   "execution_count": 2,
   "metadata": {},
   "outputs": [
    {
     "ename": "ValueError",
     "evalue": "All arrays must be of the same length",
     "output_type": "error",
     "traceback": [
      "\u001b[1;31m---------------------------------------------------------------------------\u001b[0m",
      "\u001b[1;31mValueError\u001b[0m                                Traceback (most recent call last)",
      "\u001b[1;32mc:\\Users\\barta\\Desktop\\Uni\\Data Challange 3\\JBG060-DC3-Group-25\\test.ipynb Cell 1\u001b[0m line \u001b[0;36m8\n\u001b[0;32m      <a href='vscode-notebook-cell:/c%3A/Users/barta/Desktop/Uni/Data%20Challange%203/JBG060-DC3-Group-25/test.ipynb#W0sZmlsZQ%3D%3D?line=4'>5</a>\u001b[0m response \u001b[39m=\u001b[39m requests\u001b[39m.\u001b[39mget(url)\n\u001b[0;32m      <a href='vscode-notebook-cell:/c%3A/Users/barta/Desktop/Uni/Data%20Challange%203/JBG060-DC3-Group-25/test.ipynb#W0sZmlsZQ%3D%3D?line=5'>6</a>\u001b[0m data \u001b[39m=\u001b[39m response\u001b[39m.\u001b[39mjson()\n\u001b[1;32m----> <a href='vscode-notebook-cell:/c%3A/Users/barta/Desktop/Uni/Data%20Challange%203/JBG060-DC3-Group-25/test.ipynb#W0sZmlsZQ%3D%3D?line=7'>8</a>\u001b[0m df \u001b[39m=\u001b[39m pd\u001b[39m.\u001b[39;49mDataFrame(data)\n\u001b[0;32m      <a href='vscode-notebook-cell:/c%3A/Users/barta/Desktop/Uni/Data%20Challange%203/JBG060-DC3-Group-25/test.ipynb#W0sZmlsZQ%3D%3D?line=8'>9</a>\u001b[0m df\u001b[39m.\u001b[39mhead()\n",
      "File \u001b[1;32mc:\\Users\\barta\\Desktop\\Uni\\Data Challange 3\\JBG060-DC3-Group-25\\dc3env\\lib\\site-packages\\pandas\\core\\frame.py:636\u001b[0m, in \u001b[0;36mDataFrame.__init__\u001b[1;34m(self, data, index, columns, dtype, copy)\u001b[0m\n\u001b[0;32m    630\u001b[0m     mgr \u001b[39m=\u001b[39m \u001b[39mself\u001b[39m\u001b[39m.\u001b[39m_init_mgr(\n\u001b[0;32m    631\u001b[0m         data, axes\u001b[39m=\u001b[39m{\u001b[39m\"\u001b[39m\u001b[39mindex\u001b[39m\u001b[39m\"\u001b[39m: index, \u001b[39m\"\u001b[39m\u001b[39mcolumns\u001b[39m\u001b[39m\"\u001b[39m: columns}, dtype\u001b[39m=\u001b[39mdtype, copy\u001b[39m=\u001b[39mcopy\n\u001b[0;32m    632\u001b[0m     )\n\u001b[0;32m    634\u001b[0m \u001b[39melif\u001b[39;00m \u001b[39misinstance\u001b[39m(data, \u001b[39mdict\u001b[39m):\n\u001b[0;32m    635\u001b[0m     \u001b[39m# GH#38939 de facto copy defaults to False only in non-dict cases\u001b[39;00m\n\u001b[1;32m--> 636\u001b[0m     mgr \u001b[39m=\u001b[39m dict_to_mgr(data, index, columns, dtype\u001b[39m=\u001b[39;49mdtype, copy\u001b[39m=\u001b[39;49mcopy, typ\u001b[39m=\u001b[39;49mmanager)\n\u001b[0;32m    637\u001b[0m \u001b[39melif\u001b[39;00m \u001b[39misinstance\u001b[39m(data, ma\u001b[39m.\u001b[39mMaskedArray):\n\u001b[0;32m    638\u001b[0m     \u001b[39mimport\u001b[39;00m \u001b[39mnumpy\u001b[39;00m\u001b[39m.\u001b[39;00m\u001b[39mma\u001b[39;00m\u001b[39m.\u001b[39;00m\u001b[39mmrecords\u001b[39;00m \u001b[39mas\u001b[39;00m \u001b[39mmrecords\u001b[39;00m\n",
      "File \u001b[1;32mc:\\Users\\barta\\Desktop\\Uni\\Data Challange 3\\JBG060-DC3-Group-25\\dc3env\\lib\\site-packages\\pandas\\core\\internals\\construction.py:502\u001b[0m, in \u001b[0;36mdict_to_mgr\u001b[1;34m(data, index, columns, dtype, typ, copy)\u001b[0m\n\u001b[0;32m    494\u001b[0m     arrays \u001b[39m=\u001b[39m [\n\u001b[0;32m    495\u001b[0m         x\n\u001b[0;32m    496\u001b[0m         \u001b[39mif\u001b[39;00m \u001b[39mnot\u001b[39;00m \u001b[39mhasattr\u001b[39m(x, \u001b[39m\"\u001b[39m\u001b[39mdtype\u001b[39m\u001b[39m\"\u001b[39m) \u001b[39mor\u001b[39;00m \u001b[39mnot\u001b[39;00m \u001b[39misinstance\u001b[39m(x\u001b[39m.\u001b[39mdtype, ExtensionDtype)\n\u001b[0;32m    497\u001b[0m         \u001b[39melse\u001b[39;00m x\u001b[39m.\u001b[39mcopy()\n\u001b[0;32m    498\u001b[0m         \u001b[39mfor\u001b[39;00m x \u001b[39min\u001b[39;00m arrays\n\u001b[0;32m    499\u001b[0m     ]\n\u001b[0;32m    500\u001b[0m     \u001b[39m# TODO: can we get rid of the dt64tz special case above?\u001b[39;00m\n\u001b[1;32m--> 502\u001b[0m \u001b[39mreturn\u001b[39;00m arrays_to_mgr(arrays, columns, index, dtype\u001b[39m=\u001b[39;49mdtype, typ\u001b[39m=\u001b[39;49mtyp, consolidate\u001b[39m=\u001b[39;49mcopy)\n",
      "File \u001b[1;32mc:\\Users\\barta\\Desktop\\Uni\\Data Challange 3\\JBG060-DC3-Group-25\\dc3env\\lib\\site-packages\\pandas\\core\\internals\\construction.py:120\u001b[0m, in \u001b[0;36marrays_to_mgr\u001b[1;34m(arrays, columns, index, dtype, verify_integrity, typ, consolidate)\u001b[0m\n\u001b[0;32m    117\u001b[0m \u001b[39mif\u001b[39;00m verify_integrity:\n\u001b[0;32m    118\u001b[0m     \u001b[39m# figure out the index, if necessary\u001b[39;00m\n\u001b[0;32m    119\u001b[0m     \u001b[39mif\u001b[39;00m index \u001b[39mis\u001b[39;00m \u001b[39mNone\u001b[39;00m:\n\u001b[1;32m--> 120\u001b[0m         index \u001b[39m=\u001b[39m _extract_index(arrays)\n\u001b[0;32m    121\u001b[0m     \u001b[39melse\u001b[39;00m:\n\u001b[0;32m    122\u001b[0m         index \u001b[39m=\u001b[39m ensure_index(index)\n",
      "File \u001b[1;32mc:\\Users\\barta\\Desktop\\Uni\\Data Challange 3\\JBG060-DC3-Group-25\\dc3env\\lib\\site-packages\\pandas\\core\\internals\\construction.py:674\u001b[0m, in \u001b[0;36m_extract_index\u001b[1;34m(data)\u001b[0m\n\u001b[0;32m    672\u001b[0m lengths \u001b[39m=\u001b[39m \u001b[39mlist\u001b[39m(\u001b[39mset\u001b[39m(raw_lengths))\n\u001b[0;32m    673\u001b[0m \u001b[39mif\u001b[39;00m \u001b[39mlen\u001b[39m(lengths) \u001b[39m>\u001b[39m \u001b[39m1\u001b[39m:\n\u001b[1;32m--> 674\u001b[0m     \u001b[39mraise\u001b[39;00m \u001b[39mValueError\u001b[39;00m(\u001b[39m\"\u001b[39m\u001b[39mAll arrays must be of the same length\u001b[39m\u001b[39m\"\u001b[39m)\n\u001b[0;32m    676\u001b[0m \u001b[39mif\u001b[39;00m have_dicts:\n\u001b[0;32m    677\u001b[0m     \u001b[39mraise\u001b[39;00m \u001b[39mValueError\u001b[39;00m(\n\u001b[0;32m    678\u001b[0m         \u001b[39m\"\u001b[39m\u001b[39mMixing dicts with non-Series may lead to ambiguous ordering.\u001b[39m\u001b[39m\"\u001b[39m\n\u001b[0;32m    679\u001b[0m     )\n",
      "\u001b[1;31mValueError\u001b[0m: All arrays must be of the same length"
     ]
    }
   ],
   "source": [
    "import requests\n",
    "import json\n",
    "import pandas as pd\n"
   ]
  },
  {
   "cell_type": "code",
   "execution_count": 1,
   "metadata": {},
   "outputs": [
    {
     "ename": "NameError",
     "evalue": "name 'df_all_africa' is not defined",
     "output_type": "error",
     "traceback": [
      "\u001b[1;31m---------------------------------------------------------------------------\u001b[0m",
      "\u001b[1;31mNameError\u001b[0m                                 Traceback (most recent call last)",
      "\u001b[1;32mc:\\Users\\barta\\Desktop\\Uni\\Data Challange 3\\JBG060-DC3-Group-25\\test.ipynb Cell 57\u001b[0m line \u001b[0;36m5\n\u001b[0;32m      <a href='vscode-notebook-cell:/c%3A/Users/barta/Desktop/Uni/Data%20Challange%203/JBG060-DC3-Group-25/test.ipynb#Y110sZmlsZQ%3D%3D?line=0'>1</a>\u001b[0m \u001b[39mimport\u001b[39;00m \u001b[39mtqdm\u001b[39;00m\n\u001b[0;32m      <a href='vscode-notebook-cell:/c%3A/Users/barta/Desktop/Uni/Data%20Challange%203/JBG060-DC3-Group-25/test.ipynb#Y110sZmlsZQ%3D%3D?line=2'>3</a>\u001b[0m tqdm\u001b[39m.\u001b[39mtqdm\u001b[39m.\u001b[39mpandas()\n\u001b[1;32m----> <a href='vscode-notebook-cell:/c%3A/Users/barta/Desktop/Uni/Data%20Challange%203/JBG060-DC3-Group-25/test.ipynb#Y110sZmlsZQ%3D%3D?line=4'>5</a>\u001b[0m df_all_africa[\u001b[39m\"\u001b[39m\u001b[39mparagraph_len\u001b[39m\u001b[39m\"\u001b[39m] \u001b[39m=\u001b[39m df_all_africa[\u001b[39m\"\u001b[39m\u001b[39mparagraphs\u001b[39m\u001b[39m\"\u001b[39m]\u001b[39m.\u001b[39mapply(\u001b[39mlen\u001b[39m)\n\u001b[0;32m      <a href='vscode-notebook-cell:/c%3A/Users/barta/Desktop/Uni/Data%20Challange%203/JBG060-DC3-Group-25/test.ipynb#Y110sZmlsZQ%3D%3D?line=5'>6</a>\u001b[0m lowbound \u001b[39m=\u001b[39m \u001b[39m20\u001b[39m\n\u001b[0;32m      <a href='vscode-notebook-cell:/c%3A/Users/barta/Desktop/Uni/Data%20Challange%203/JBG060-DC3-Group-25/test.ipynb#Y110sZmlsZQ%3D%3D?line=6'>7</a>\u001b[0m highbound \u001b[39m=\u001b[39m \u001b[39m65\u001b[39m\n",
      "\u001b[1;31mNameError\u001b[0m: name 'df_all_africa' is not defined"
     ]
    }
   ],
   "source": [
    "import tqdm\n",
    "\n",
    "tqdm.tqdm.pandas()\n",
    "\n",
    "df_all_africa[\"paragraph_len\"] = df_all_africa[\"paragraphs\"].apply(len)\n",
    "lowbound = 20\n",
    "highbound = 65\n",
    "\n",
    "df_all_africa[\"paragraph_section\"] = df_all_africa[\"paragraphs\"].apply(lambda x: x[lowbound:highbound])\n",
    "paragraphs = df_full[\"paragraphs\"].unique().tolist()\n",
    "paragraphs.sort()\n",
    "def find_corresponding_paragraph(paragraphs, paragraph_section):\n",
    "    res = list(filter(lambda x: paragraph_section in x, paragraphs))\n",
    "    if len(res) > 0:\n",
    "        paragraphs.remove(res[0])\n",
    "        return res[0]\n",
    "    return None\n",
    "df_all_africa[\"paragraph\"] = df_all_africa.progress_apply(lambda x: find_corresponding_paragraph(paragraphs, x[\"paragraph_section\"]), axis=1)\n",
    "df_all_africa.head()"
   ]
  },
  {
   "cell_type": "code",
   "execution_count": 47,
   "metadata": {},
   "outputs": [],
   "source": [
    "\n",
    "\n",
    "df_full.paragraph.notna().sum(), df_full.paragraph.isna().sum()\n",
    "df_full.dropna(subset=[\"paragraph\"], inplace=True)\n",
    "\n",
    "df_full.rename(columns={\"label\": \"sentiment_paragraph\"}, inplace=True)\n",
    "df_full.drop([\"paragraph\", \"paragraphs_len\"], axis=1, inplace=True)\n",
    "df_full.to_csv(\"data/full_dataset_with_sentiment.csv\", index=True)"
   ]
  },
  {
   "cell_type": "code",
   "execution_count": 24,
   "metadata": {},
   "outputs": [],
   "source": [
    "import pandas as pd\n",
    "\n",
    "df_full = pd.read_csv(\"data/full_dataset_with_sentiment_combined.csv\", index_col=0)"
   ]
  },
  {
   "cell_type": "code",
   "execution_count": 8,
   "metadata": {},
   "outputs": [],
   "source": [
    "df = pd.read_csv(\"data/full_dataset_with_sentiment_combined2.csv\", index_col=0)\n",
    "df_sum = pd.read_csv(\"data/articles_summary_cleaned.csv\")[[\"location_article\", \"summary\"]]\n",
    "combined = pd.merge(df, df_sum, on=[\"summary\"], how=\"left\")\n",
    "\n",
    "combined.to_csv(\"data/full_dataset_with_sentiment_combined2.csv\", index=True)"
   ]
  },
  {
   "cell_type": "code",
   "execution_count": 12,
   "metadata": {},
   "outputs": [],
   "source": [
    "df = pd.read_csv(\"data/food_crises_cleaned.csv\")"
   ]
  },
  {
   "cell_type": "code",
   "execution_count": null,
   "metadata": {},
   "outputs": [],
   "source": []
  }
 ],
 "metadata": {
  "kernelspec": {
   "display_name": "dc3env",
   "language": "python",
   "name": "python3"
  },
  "language_info": {
   "codemirror_mode": {
    "name": "ipython",
    "version": 3
   },
   "file_extension": ".py",
   "mimetype": "text/x-python",
   "name": "python",
   "nbconvert_exporter": "python",
   "pygments_lexer": "ipython3",
   "version": "3.9.0"
  },
  "orig_nbformat": 4
 },
 "nbformat": 4,
 "nbformat_minor": 2
}
